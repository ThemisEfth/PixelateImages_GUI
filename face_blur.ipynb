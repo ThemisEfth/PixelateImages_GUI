{
 "cells": [
  {
   "cell_type": "code",
   "execution_count": null,
   "metadata": {},
   "outputs": [
    {
     "name": "stdout",
     "output_type": "stream",
     "text": [
      "Select an ROI and press ENTER or SPACE. Press ESC or provide a zero-size ROI to finish.\n",
      "Select a ROI and then press SPACE or ENTER button!\n",
      "Cancel the selection process by pressing c button!\n"
     ]
    },
    {
     "name": "stderr",
     "output_type": "stream",
     "text": [
      "2025-02-25 15:32:08.057 python[22212:12541315] +[IMKClient subclass]: chose IMKClient_Modern\n",
      "2025-02-25 15:32:08.057 python[22212:12541315] +[IMKInputSession subclass]: chose IMKInputSession_Modern\n"
     ]
    },
    {
     "name": "stdout",
     "output_type": "stream",
     "text": [
      "Select a ROI and then press SPACE or ENTER button!\n",
      "Cancel the selection process by pressing c button!\n",
      "Selected 1 ROI(s).\n",
      "Pixelated image saved to /Users/tefthimi/Library/CloudStorage/OneDrive-SharedLibraries-UniversityofEdinburgh/Diversity in Social Intelligence Replication - Video Analysis & Rapport Research/Analysis - Multimodal gesture/figures/Example_image_pixelated.tiff\n"
     ]
    },
    {
     "ename": "",
     "evalue": "",
     "output_type": "error",
     "traceback": [
      "\u001b[1;31mThe Kernel crashed while executing code in the current cell or a previous cell. \n",
      "\u001b[1;31mPlease review the code in the cell(s) to identify a possible cause of the failure. \n",
      "\u001b[1;31mClick <a href='https://aka.ms/vscodeJupyterKernelCrash'>here</a> for more info. \n",
      "\u001b[1;31mView Jupyter <a href='command:jupyter.viewOutput'>log</a> for further details."
     ]
    }
   ],
   "source": [
    "import cv2\n",
    "import numpy as np\n",
    "import os\n",
    "\n",
    "# Define the path to the input image\n",
    "image_path = ''\n",
    "\n",
    "# Load the image\n",
    "image = cv2.imread(image_path)\n",
    "if image is None:\n",
    "    raise FileNotFoundError(f\"Could not load image from {image_path}\")\n",
    "\n",
    "# Create a copy of the image for ROI selection\n",
    "image_for_roi = image.copy()\n",
    "\n",
    "# List to store selected ROIs\n",
    "rois = []\n",
    "\n",
    "print(\"Select an ROI and press ENTER or SPACE. Press ESC or provide a zero-size ROI to finish.\")\n",
    "\n",
    "while True:\n",
    "    # Let the user select an ROI. This function returns (x, y, w, h).\n",
    "    roi = cv2.selectROI(\"Select ROI (press ENTER when done, ESC to cancel)\", image_for_roi, showCrosshair=True, fromCenter=False)\n",
    "    # If width or height is zero, break out of the loop\n",
    "    if roi[2] == 0 or roi[3] == 0:\n",
    "        break\n",
    "    rois.append(roi)\n",
    "    # Optionally, draw a rectangle on the image copy to visualize selected ROIs\n",
    "    x, y, w, h = roi\n",
    "    cv2.rectangle(image_for_roi, (x, y), (x+w, y+h), (0, 255, 0), 2)\n",
    "\n",
    "cv2.destroyAllWindows()\n",
    "\n",
    "print(f\"Selected {len(rois)} ROI(s).\")\n",
    "\n",
    "def pixelate_region(img, x, y, w, h, pixelation_size=10):\n",
    "    \"\"\"\n",
    "    Pixelates the region of interest (ROI) in the image.\n",
    "    \n",
    "    Args:\n",
    "        img: The input image.\n",
    "        x, y: Top-left coordinates of the ROI.\n",
    "        w, h: Width and height of the ROI.\n",
    "        pixelation_size: The resolution to which the ROI is downscaled (lower values yield a stronger pixelation effect).\n",
    "    \n",
    "    Returns:\n",
    "        The image with the specified ROI pixelated.\n",
    "    \"\"\"\n",
    "    # Extract the ROI\n",
    "    roi_img = img[y:y+h, x:x+w]\n",
    "    # Downscale the ROI to a very low resolution, then upscale to original size\n",
    "    temp = cv2.resize(roi_img, (pixelation_size, pixelation_size), interpolation=cv2.INTER_LINEAR)\n",
    "    pixelated_roi = cv2.resize(temp, (w, h), interpolation=cv2.INTER_NEAREST)\n",
    "    # Replace the ROI in the original image with the pixelated version\n",
    "    img[y:y+h, x:x+w] = pixelated_roi\n",
    "    return img\n",
    "\n",
    "# Apply pixelation for each selected ROI\n",
    "for (x, y, w, h) in rois:\n",
    "    image = pixelate_region(image, int(x), int(y), int(w), int(h), pixelation_size=10)\n",
    "\n",
    "# Define the output path for the pixelated image\n",
    "output_path = ''\n",
    "\n",
    "# Save the pixelated image\n",
    "cv2.imwrite(output_path, image)\n",
    "print(f\"Pixelated image saved to {output_path}\")"
   ]
  },
  {
   "cell_type": "markdown",
   "metadata": {},
   "source": []
  }
 ],
 "metadata": {
  "kernelspec": {
   "display_name": "opencv_py311",
   "language": "python",
   "name": "python3"
  },
  "language_info": {
   "codemirror_mode": {
    "name": "ipython",
    "version": 3
   },
   "file_extension": ".py",
   "mimetype": "text/x-python",
   "name": "python",
   "nbconvert_exporter": "python",
   "pygments_lexer": "ipython3",
   "version": "3.11.7"
  }
 },
 "nbformat": 4,
 "nbformat_minor": 2
}
